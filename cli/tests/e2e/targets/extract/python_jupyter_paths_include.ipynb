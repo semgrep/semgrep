{
    "cells": [
     {
      "cell_type": "markdown",
      "id": "68ac0197",
      "metadata": {},
      "source": [
       "This is an example"
      ]
     },
     {
      "cell_type": "code",
      "execution_count": 2,
      "id": "6cb7c3d3",
      "metadata": {},
      "outputs": [],
      "source": [
       "import pickle"
      ]
     },
     {
      "cell_type": "code",
      "execution_count": 3,
      "id": "28ed696c",
      "metadata": {},
      "outputs": [],
      "source": [
       "#ruleid: check-for-data",
       "data = [\"This\", \"is\", \"an\", \"example\"] \n",
       "with open(\"test.pkl\", 'wb') as f:\n",
       "    pickle.dump(data, f)"
      ]
     },
     {
      "cell_type": "code",
      "execution_count": null,
      "id": "68eb1af3",
      "metadata": {},
      "outputs": [],
      "source": []
     }
    ],
    "metadata": {
     "kernelspec": {
      "display_name": "Python 3 (ipykernel)",
      "language": "python",
      "name": "python3"
     },
     "language_info": {
      "codemirror_mode": {
       "name": "ipython",
       "version": 3
      },
      "file_extension": ".py",
      "mimetype": "text/x-python",
      "name": "python",
      "nbconvert_exporter": "python",
      "pygments_lexer": "ipython3",
      "version": "3.10.6"
     }
    },
    "nbformat": 4,
    "nbformat_minor": 5
   }
